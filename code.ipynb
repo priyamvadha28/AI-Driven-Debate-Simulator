{
 "cells": [
  {
   "cell_type": "code",
   "execution_count": null,
   "metadata": {},
   "outputs": [],
   "source": [
    "import openai"
   ]
  },
  {
   "cell_type": "code",
   "execution_count": null,
   "metadata": {},
   "outputs": [],
   "source": [
    "# Set your OpenAI API key\n",
    "openai.api_key = \"YOUR_OPENAI_API_KEY\"  # Replace with your actual OpenAI API key\n",
    "\n",
    "# Define the OpenAI model to use (e.g., GPT-3.5 or GPT-4)\n",
    "model_name = \"gpt-4\"  # Specify the model name, adjust if using a different model"
   ]
  },
  {
   "cell_type": "code",
   "execution_count": null,
   "metadata": {},
   "outputs": [],
   "source": [
    "# Define the debate topic and the classes involved\n",
    "debate_topic = \"Should AI be regulated?\" # Change to your required topic\n",
    "classes = [\"AI engineers\", \"Common people\"]"
   ]
  },
  {
   "cell_type": "code",
   "execution_count": null,
   "metadata": {},
   "outputs": [],
   "source": [
    "# Function to generate debate arguments based on the current state\n",
    "def generate_argument(classification, history, current_response):\n",
    "    # Construct the prompt to instruct the LLM\n",
    "    prompt_start = f\"You are in support of {classification}. You are in a debate with {classes[1]} over the topic: {debate_topic}. This is the conversation so far:\\n{history}\\nPut forth your next argument to support {classification} countering {current_response}. Don't repeat your previous arguments. Give a short, one-line answer.\"\n",
    "\n",
    "    # Make the API call to get the argument from the model\n",
    "    response = openai.Completion.create(\n",
    "        model=model_name,  # Specify the model to use\n",
    "        prompt=prompt_start,  # The prompt for generating the argument\n",
    "        max_tokens=50,  # Limit the length of the response\n",
    "        temperature=0.7  # Adjust creativity of the response\n",
    "    )\n",
    "    \n",
    "    # Format and return the argument\n",
    "    argument = f\"{classification}: {response.choices[0].text.strip()}\"\n",
    "    return argument"
   ]
  },
  {
   "cell_type": "code",
   "execution_count": null,
   "metadata": {},
   "outputs": [],
   "source": [
    "# Function to determine the winner of the debate based on the conversation history\n",
    "def determine_winner(history):\n",
    "    # Construct the prompt to summarize the debate and determine the winner\n",
    "    prompt = f\"Summarize the conversation and judge who won the debate. No ties allowed. Conversation: {history}\"\n",
    "\n",
    "    # Make the API call to get the winner from the model\n",
    "    response = openai.Completion.create(\n",
    "        model=model_name,  # Specify the model to use\n",
    "        prompt=prompt,  # The prompt for summarizing and judging\n",
    "        max_tokens=50,  # Limit the length of the response\n",
    "        temperature=0.7  # Adjust creativity of the response\n",
    "    )\n",
    "    \n",
    "    # Return the determined winner\n",
    "    winner = response.choices[0].text.strip()\n",
    "    return winner"
   ]
  },
  {
   "cell_type": "code",
   "execution_count": null,
   "metadata": {},
   "outputs": [],
   "source": [
    "# Initialize the conversation history\n",
    "history = \"Nothing\"  # Starting with an empty conversation history\n",
    "current_response = \"\"  # Initialize the current response\n",
    "\n",
    "# Number of turns each side will have in the debate\n",
    "turns_per_side = 5\n",
    "\n",
    "# Debate loop to generate arguments and keep track of the conversation\n",
    "for turn in range(turns_per_side * 2):\n",
    "    classification = classes[turn % 2]  # Alternate between classes\n",
    "    argument = generate_argument(classification, history, current_response)  # Get the argument from the model\n",
    "    history += \"\\n\" + argument  # Update the conversation history\n",
    "    current_response = argument.split(\":\")[-1]  # Extract the current response for the next argument\n",
    "    print(argument)  # Print the argument"
   ]
  },
  {
   "cell_type": "code",
   "execution_count": null,
   "metadata": {},
   "outputs": [],
   "source": [
    "# Determine the winner of the debate based on the conversation history\n",
    "winner = determine_winner(history)\n",
    "print(f\"The winner of the debate is: {winner}\")  # Print the result\n",
    "\n",
    "# This project is developed and maintained by Priyamvadha Pradeep."
   ]
  }
 ],
 "metadata": {
  "language_info": {
   "name": "python"
  }
 },
 "nbformat": 4,
 "nbformat_minor": 2
}
